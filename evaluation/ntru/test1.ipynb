{
 "cells": [
  {
   "cell_type": "code",
   "execution_count": 1,
   "metadata": {},
   "outputs": [],
   "source": [
    "import ntru_config as config\n",
    "\n",
    "from ntru_utils.NtruEncrypt import *\n",
    "from ntru_utils.Polynomial import Zx\n",
    "from ntru_utils.num_to_polynomial import *\n",
    "\n",
    "import time\n",
    "import json\n",
    "from datetime import timedelta\n",
    "from timeit import default_timer as timer\n",
    "import pandas as pd"
   ]
  },
  {
   "cell_type": "code",
   "execution_count": 2,
   "metadata": {},
   "outputs": [],
   "source": [
    "TEST_N = 100"
   ]
  },
  {
   "cell_type": "code",
   "execution_count": 3,
   "metadata": {},
   "outputs": [],
   "source": [
    "SNPK, SNSK = generate_keypair(config.N_P, config.N_Q, config.N_D, config.N_N)"
   ]
  },
  {
   "cell_type": "code",
   "execution_count": 4,
   "metadata": {},
   "outputs": [],
   "source": [
    "data = {\n",
    "    \"timestamp\": time.time(),\n",
    "    \"pid\": {},\n",
    "}"
   ]
  },
  {
   "cell_type": "code",
   "execution_count": 5,
   "metadata": {},
   "outputs": [],
   "source": [
    "def concatDataFrame(df, data):\n",
    "    df = pd.concat([df, pd.DataFrame(data)], ignore_index=True)\n",
    "    return df\n",
    "\n",
    "\n",
    "def ntruTrans(message):\n",
    "    # print(message)\n",
    "    characterPolynomials, N = koblitz_encoder(\n",
    "        message, config.N_elliptic_a, config.N_elliptic_b)\n",
    "    return characterPolynomials, N\n",
    "\n",
    "\n",
    "def ntruEncrypt(message, publicKey):\n",
    "    # print(f\"{type(message)} -> {message}\")\n",
    "    characterPolynomials, N = ntruTrans(message)\n",
    "    cipher_polys = []\n",
    "    for element in characterPolynomials:\n",
    "        cipher_text = encrypt(element, publicKey, config.N_D, N, config.N_Q)\n",
    "        cipher_polys.append(cipher_text)\n",
    "    return cipher_polys, N"
   ]
  },
  {
   "cell_type": "code",
   "execution_count": 6,
   "metadata": {},
   "outputs": [
    {
     "name": "stdout",
     "output_type": "stream",
     "text": [
      "  Method PID Length Elasped Time (sec)\n",
      "0   NTRU          0            0.04614\n",
      "1   NTRU          1           0.042191\n",
      "2   NTRU          2           0.049376\n",
      "3   NTRU          3           0.059569\n",
      "4   NTRU          4           0.069354\n"
     ]
    }
   ],
   "source": [
    "df = pd.DataFrame(columns=['Method', 'PID Length', 'Elasped Time (sec)'])\n",
    "\n",
    "i = 0\n",
    "\n",
    "while i <= TEST_N:\n",
    "    t = timer()\n",
    "    _, _ = ntruEncrypt(json.dumps(data), SNPK)\n",
    "    # ciper_polys, n = ntruEncrypt(data, SNPK)\n",
    "    elaspsed_time = timer() - t\n",
    "    eval_data = {'Method': ['NTRU'], 'PID Length': [f'{i}'],\n",
    "                 'Elasped Time (sec)': [timedelta(seconds=elaspsed_time).total_seconds()]}\n",
    "\n",
    "    # print(eval_data)\n",
    "    df = concatDataFrame(df, eval_data)\n",
    "    # ====== Next Loop ======\n",
    "    i += 1\n",
    "    data['pid'][f'id{i}'] = \"AAAA\"\n",
    "\n",
    "print(df.tail())"
   ]
  },
  {
   "cell_type": "code",
   "execution_count": 9,
   "metadata": {},
   "outputs": [
    {
     "name": "stdout",
     "output_type": "stream",
     "text": [
      "    Method PID Length Elasped Time (sec)\n",
      "96    NTRU         96           1.012027\n",
      "97    NTRU         97           1.093619\n",
      "98    NTRU         98           1.033953\n",
      "99    NTRU         99            1.03832\n",
      "100   NTRU        100            1.06093\n"
     ]
    }
   ],
   "source": [
    "print(df.tail())"
   ]
  },
  {
   "cell_type": "code",
   "execution_count": 7,
   "metadata": {},
   "outputs": [
    {
     "data": {
      "text/plain": [
       "0.5421709702970297"
      ]
     },
     "execution_count": 7,
     "metadata": {},
     "output_type": "execute_result"
    }
   ],
   "source": [
    "# df['Elasped Time (sec)'].mean()"
   ]
  },
  {
   "cell_type": "code",
   "execution_count": 8,
   "metadata": {},
   "outputs": [],
   "source": [
    "df.to_csv('ntru_n100_server.csv', index=False)"
   ]
  }
 ],
 "metadata": {
  "interpreter": {
   "hash": "40541b84c4d394165c65bd51b28539e3be88ab0f7b139fd41866279d1d770d91"
  },
  "kernelspec": {
   "display_name": "Python 3.8.10 ('evaluation': venv)",
   "language": "python",
   "name": "python3"
  },
  "language_info": {
   "codemirror_mode": {
    "name": "ipython",
    "version": 3
   },
   "file_extension": ".py",
   "mimetype": "text/x-python",
   "name": "python",
   "nbconvert_exporter": "python",
   "pygments_lexer": "ipython3",
   "version": "3.8.10"
  },
  "orig_nbformat": 4
 },
 "nbformat": 4,
 "nbformat_minor": 2
}
